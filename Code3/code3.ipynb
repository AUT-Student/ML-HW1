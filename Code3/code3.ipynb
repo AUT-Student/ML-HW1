{
 "cells": [
  {
   "cell_type": "markdown",
   "id": "statistical-exchange",
   "metadata": {},
   "source": [
    "<center><b>In the name of God</b></center>\n",
    "\n",
    "<b>Course</b>: Machine Learning\n",
    "<br>\n",
    "<b>Description:</b> HomeWork 1 | Question 3\n",
    "<br>\n",
    "<b>Developer</b>: Alireza Mazochi (400131075)"
   ]
  },
  {
   "cell_type": "markdown",
   "id": "packed-reunion",
   "metadata": {},
   "source": [
    "# Libraries"
   ]
  },
  {
   "cell_type": "code",
   "execution_count": 1,
   "id": "complimentary-roots",
   "metadata": {},
   "outputs": [],
   "source": [
    "# Import Allowed Libraries\n",
    "import pandas as pd\n",
    "import numpy as np\n",
    "import matplotlib.pyplot as plt"
   ]
  },
  {
   "cell_type": "markdown",
   "id": "structured-steering",
   "metadata": {},
   "source": [
    "# Load"
   ]
  },
  {
   "cell_type": "code",
   "execution_count": 2,
   "id": "meaning-eight",
   "metadata": {},
   "outputs": [],
   "source": [
    "train_data = pd.read_csv(\"train.csv\")"
   ]
  },
  {
   "cell_type": "code",
   "execution_count": 3,
   "id": "heated-wichita",
   "metadata": {},
   "outputs": [],
   "source": [
    "test_data = pd.read_csv(\"test.csv\")"
   ]
  },
  {
   "cell_type": "code",
   "execution_count": 4,
   "id": "injured-upset",
   "metadata": {},
   "outputs": [
    {
     "data": {
      "text/plain": [
       "{'northeast', 'northwest', 'southeast', 'southwest'}"
      ]
     },
     "execution_count": 4,
     "metadata": {},
     "output_type": "execute_result"
    }
   ],
   "source": [
    "set(train_data[\"region\"].values)"
   ]
  },
  {
   "cell_type": "markdown",
   "id": "close-california",
   "metadata": {},
   "source": [
    "# Encoding"
   ]
  },
  {
   "cell_type": "code",
   "execution_count": 5,
   "id": "offensive-ebony",
   "metadata": {},
   "outputs": [],
   "source": [
    "# Encoding string features\n",
    "\n",
    "def gender_encoding(gender):\n",
    "    if gender == \"male\":\n",
    "        return 1\n",
    "    elif gender == \"female\":\n",
    "        return 0\n",
    "    else:\n",
    "        raise Exception(\"An expected value for gender!\")\n",
    "    \n",
    "def smoker_encoding(smoker):\n",
    "    if smoker == \"yes\":\n",
    "        return 1\n",
    "    elif smoker == \"no\":\n",
    "        return 0\n",
    "    else:\n",
    "        raise Exception(\"An expected value for smoker!\")\n",
    "\n",
    "def region_encoding(region):\n",
    "    if region == \"northeast\":\n",
    "        return np.array([1, 0, 0, 0])\n",
    "    elif region == \"northwest\":\n",
    "        return np.array([0, 1, 0, 0])\n",
    "    elif region == \"southeast\":\n",
    "        return np.array([0, 0, 1, 0])\n",
    "    elif region == \"southwest\":\n",
    "        return np.array([0, 0, 0, 1])\n",
    "    else:\n",
    "        raise Exception(\"An expected value for region!\")"
   ]
  },
  {
   "cell_type": "code",
   "execution_count": 6,
   "id": "respective-feature",
   "metadata": {},
   "outputs": [],
   "source": [
    "# Apply encodings\n",
    "\n",
    "train_data[\"gender\"] = train_data[\"gender\"].apply(gender_encoding)\n",
    "train_data[\"smoker\"] = train_data[\"smoker\"].apply(smoker_encoding)\n",
    "train_data[\"region\"] = train_data[\"region\"].apply(region_encoding)\n",
    "\n",
    "test_data[\"gender\"] = test_data[\"gender\"].apply(gender_encoding)\n",
    "test_data[\"smoker\"] = test_data[\"smoker\"].apply(smoker_encoding)\n",
    "test_data[\"region\"] = test_data[\"region\"].apply(region_encoding)"
   ]
  },
  {
   "cell_type": "code",
   "execution_count": 7,
   "id": "dress-julian",
   "metadata": {},
   "outputs": [],
   "source": [
    "def convert_vector_feature_to_separated_features(data):\n",
    "    data[\"region-0\"] = data[\"region\"].apply(lambda x:x[0])\n",
    "    data[\"region-1\"] = data[\"region\"].apply(lambda x:x[1])\n",
    "    data[\"region-2\"] = data[\"region\"].apply(lambda x:x[2])\n",
    "    data[\"region-3\"] = data[\"region\"].apply(lambda x:x[3])\n",
    "    del data[\"region\"]"
   ]
  },
  {
   "cell_type": "code",
   "execution_count": 8,
   "id": "fifteen-scotland",
   "metadata": {},
   "outputs": [],
   "source": [
    "convert_vector_feature_to_separated_features(train_data)\n",
    "convert_vector_feature_to_separated_features(test_data)"
   ]
  },
  {
   "cell_type": "markdown",
   "id": "humanitarian-boutique",
   "metadata": {},
   "source": [
    "# Basis Function"
   ]
  },
  {
   "cell_type": "code",
   "execution_count": 10,
   "id": "wireless-aspect",
   "metadata": {},
   "outputs": [],
   "source": [
    "train_data[\"age\"] = train_data[\"age\"].apply(lambda x:x**2)\n",
    "test_data[\"age\"] = test_data[\"age\"].apply(lambda x:x**2)"
   ]
  },
  {
   "cell_type": "markdown",
   "id": "heavy-latest",
   "metadata": {},
   "source": [
    "# Normalization"
   ]
  },
  {
   "cell_type": "code",
   "execution_count": 11,
   "id": "facial-nicholas",
   "metadata": {},
   "outputs": [],
   "source": [
    "# Normalization with min-max\n",
    "train_data=(train_data-train_data.min())/(train_data.max()-train_data.min())\n",
    "test_data=(test_data-test_data.min())/(test_data.max()-test_data.min())\n"
   ]
  },
  {
   "cell_type": "markdown",
   "id": "assigned-stretch",
   "metadata": {},
   "source": [
    "# X/Y split"
   ]
  },
  {
   "cell_type": "code",
   "execution_count": 12,
   "id": "abandoned-treaty",
   "metadata": {},
   "outputs": [],
   "source": [
    "x_train = train_data.drop(columns =[\"charges\"]).values\n",
    "y_train = train_data[\"charges\"].values\n",
    "\n",
    "x_test = test_data.drop(columns = [\"charges\"]).values\n",
    "y_test = test_data[\"charges\"].values"
   ]
  },
  {
   "cell_type": "markdown",
   "id": "israeli-excellence",
   "metadata": {},
   "source": [
    "# Multuvariate"
   ]
  },
  {
   "cell_type": "code",
   "execution_count": 13,
   "id": "parental-baptist",
   "metadata": {},
   "outputs": [],
   "source": [
    "class Multivariate():\n",
    "    \"\"\" Class Polynomial store coefficients of a multivariate\"\"\"\n",
    "\n",
    "    def __init__(self, number_variables):\n",
    "        \"\"\" \n",
    "        Create a polynomial object.\n",
    "        \n",
    "        number_variables: number of variables\n",
    "        \"\"\"\n",
    "        \n",
    "        self.number_variables = number_variables\n",
    "\n",
    "        # Coefficients of multivariate: a[n-1]*x[n-1] + a[n-2]*x[n-2] + ... + a[1]*(x[1]) + a[0]*x[0] + c\n",
    "        self.a = np.zeros(number_variables)\n",
    "        self.c = 0\n",
    "        \n",
    "    def single_apply(self, x):\n",
    "        \"\"\"\n",
    "        Apply the multivariate to a point\n",
    "        \n",
    "        x: a point\n",
    "        \"\"\"\n",
    "        return np.dot(x, self.a) + self.c\n",
    "    \n",
    "    def apply(self, x):\n",
    "        \"\"\" \n",
    "        Apply the multivariate to an array of points\n",
    "        \n",
    "        x: array of points\n",
    "        \"\"\"\n",
    "        return np.array(self.single_apply(x))\n",
    "    \n",
    "    def set_params(self, a, c):\n",
    "        \"\"\" Setter for params\"\"\"\n",
    "        self.a = a\n",
    "        self.c = c\n",
    "    \n",
    "    def get_params(self):\n",
    "        \"\"\" Getter for params\"\"\"\n",
    "        return self.a, self.c\n",
    "    \n",
    "    def __str__(self):\n",
    "        \"\"\" String of the multivariate \"\"\"\n",
    "        variables_name = list(train_data.drop(columns = [\"charges\"]).columns)\n",
    "        \n",
    "        output = \"charges = \"\n",
    "        for i in range(self.number_variables):\n",
    "            output += \"{:.2f}\".format(self.a[i]) + \" × \" + variables_name[i] + \" + \"\n",
    "        \n",
    "        output += \"{:.2f}\".format(self.c)\n",
    "        return output"
   ]
  },
  {
   "cell_type": "markdown",
   "id": "academic-status",
   "metadata": {},
   "source": [
    "# Loss Fuction"
   ]
  },
  {
   "cell_type": "code",
   "execution_count": 14,
   "id": "fatty-sugar",
   "metadata": {},
   "outputs": [],
   "source": [
    "class LossFunction():\n",
    "    \"\"\" Some Loss functions and partial derivation of them located in this class \"\"\"\n",
    "\n",
    "    @staticmethod\n",
    "    def mse(y_predict, y_real):\n",
    "        \"\"\" Mean Square Error \"\"\"\n",
    "        arr = (np.subtract(y_real,y_predict))**2\n",
    "        return np.sum(arr) / len(y_predict)\n",
    "    \n",
    "    @staticmethod\n",
    "    def partial_mse_a(y_predict, y_real, x, index):\n",
    "        \"\"\" Partial derivation of Mean Square Error for coeficient of feature of multivariat\"\"\"\n",
    "        arr = np.multiply(x[:, index], (np.subtract(y_real, y_predict)))    \n",
    "        return -2*np.sum(arr)/len(x)\n",
    "    \n",
    "    @staticmethod\n",
    "    def partial_mse_c(y_predict, y_real):\n",
    "        \"\"\" Partial derivation of Mean Square Error for consist coefficient of multivariat\"\"\"\n",
    "        arr = np.subtract(y_real, y_predict) \n",
    "        return -2*np.sum(arr)/len(y_real)\n"
   ]
  },
  {
   "cell_type": "markdown",
   "id": "spectacular-spirit",
   "metadata": {},
   "source": [
    "# Normal Equation"
   ]
  },
  {
   "cell_type": "code",
   "execution_count": 30,
   "id": "scientific-memorabilia",
   "metadata": {},
   "outputs": [],
   "source": [
    "class MultivariateNormalEquation():\n",
    "    \"\"\" This class try to match a pattern to train data with Normal Equation method \"\"\"\n",
    "\n",
    "    def __init__(self, number_features, number_data, lambda_=0):\n",
    "        \"\"\"\n",
    "        Create a MultivariateNormalEquation \n",
    "        \n",
    "        number_features: The number of features\n",
    "        number_data: The number of data\n",
    "        lambda_: lamda_ parameter that used for regularization. Defult value ignore regularization.\n",
    "        \"\"\"\n",
    "        self.number_features = number_features\n",
    "        self.number_data = number_data\n",
    "        self.lambda_ = lambda_\n",
    "        self.multivariate = Multivariate(number_variables=number_features)\n",
    "        \n",
    "    def _calculate_x(self):\n",
    "        \"\"\" Clalculate the matrix x \"\"\"\n",
    "        self.x = []\n",
    "        for xi_train in x_train[:self.number_data]:\n",
    "            new_x = [1.0]\n",
    "            for di in range(self.number_features):\n",
    "                new_x.append(xi_train[di])\n",
    "            self.x.append(new_x)\n",
    "        \n",
    "        self.x = np.array(self.x)    \n",
    "    \n",
    "    def _normal_equation(self):\n",
    "        \"\"\"\n",
    "        Calculate normal equation\n",
    "        \n",
    "        Source: http://openclassroom.stanford.edu/MainFolder/DocumentPage.php?course=MachineLearning&doc=exercises/ex5/ex5.html\n",
    "        \"\"\"\n",
    "        xt = np.transpose(self.x)\n",
    "        xtx = np.matmul(xt, self.x)\n",
    "        \n",
    "        lambda_matrix = np.identity(self.number_features + 1) * self.lambda_\n",
    "        #  Note to source\n",
    "        lambda_matrix[0, 0] = 0\n",
    "        xtx += lambda_matrix\n",
    "        \n",
    "        xtxi = np.linalg.inv(xtx)\n",
    "        xty = np.matmul(xt, y_train[:self.number_data])\n",
    "        c = np.matmul(xtxi, xty)\n",
    "        self.multivariate.set_params(c[:-1], c[-1])\n",
    "    \n",
    "    def plot_result(self):\n",
    "        \"\"\" Plot final prediction \"\"\"\n",
    "        print(self.multivariate)\n",
    "        \n",
    "        y_predict = self.multivariate.apply(x_train)\n",
    "        train_mse_error = LossFunction.mse(y_predict, y_train)\n",
    "        \n",
    "        y_predict = self.multivariate.apply(x_test)\n",
    "        test_mse_error = LossFunction.mse(y_predict, y_test)\n",
    "        \n",
    "        print(f\"Final Train Mean Squared Erorr = {train_mse_error}\")\n",
    "        print(f\"Final Test Mean Squared Error = {test_mse_error}\")\n",
    "        \n",
    "    def test_error(self):\n",
    "        y_predict = self.multivariate.apply(x_test)\n",
    "        test_mse_error = LossFunction.mse(y_predict, y_test)\n",
    "        return test_mse_error\n",
    "    \n",
    "    def train_error(self):\n",
    "        y_predict = self.multivariate.apply(x_train[:self.number_data])\n",
    "        test_mse_error = LossFunction.mse(y_predict, y_train[:self.number_data])\n",
    "        return test_mse_error\n",
    "    \n",
    "    \n",
    "    def _configuration_title(self):\n",
    "        \"\"\" Generating a string that contains configurations of the method \"\"\"\n",
    "        return f\" Numer Features = {self.number_features}\"\n",
    "        \n",
    "    def run(self):\n",
    "        \"\"\" Run Normal Equation! \"\"\"\n",
    "        self._calculate_x()\n",
    "        self._normal_equation()"
   ]
  },
  {
   "cell_type": "code",
   "execution_count": 31,
   "id": "casual-brand",
   "metadata": {},
   "outputs": [],
   "source": [
    "multivariate_normal_equation = MultivariateNormalEquation(number_features = len(x_train[0]), number_data=1000, lambda_=0.0001)"
   ]
  },
  {
   "cell_type": "code",
   "execution_count": 32,
   "id": "nasty-depth",
   "metadata": {},
   "outputs": [],
   "source": [
    "multivariate_normal_equation.run()"
   ]
  },
  {
   "cell_type": "code",
   "execution_count": 33,
   "id": "civic-appliance",
   "metadata": {},
   "outputs": [
    {
     "name": "stdout",
     "output_type": "stream",
     "text": [
      "charges = -0.05 × age + 0.20 × gender + -0.00 × bmi + 0.19 × children + 0.04 × smoker + 0.38 × region-0 + 0.01 × region-1 + 0.00 × region-2 + -0.01 × region-3 + -0.01\n",
      "Final Train Mean Squared Erorr = 0.06954599572931656\n",
      "Final Test Mean Squared Error = 0.09256216752282292\n"
     ]
    }
   ],
   "source": [
    "multivariate_normal_equation.plot_result()"
   ]
  },
  {
   "cell_type": "code",
   "execution_count": 37,
   "id": "prescribed-caution",
   "metadata": {},
   "outputs": [
    {
     "data": {
      "image/png": "[encoded data removed]",
      "text/plain": [
       "<Figure size 432x288 with 1 Axes>"
      ]
     },
     "metadata": {
      "needs_background": "light"
     },
     "output_type": "display_data"
    }
   ],
   "source": [
    "number_data_list = []\n",
    "test_error_list = []\n",
    "train_error_list = []\n",
    "\n",
    "for number_data in range(10,1010,10):\n",
    "    number_data_list.append(number_data)\n",
    "    multivariate_normal_equation = MultivariateNormalEquation(number_features = len(x_train[0]), lambda_=0.0001, number_data=number_data)\n",
    "    multivariate_normal_equation.run()\n",
    "    test_error = multivariate_normal_equation.test_error()\n",
    "    train_error = multivariate_normal_equation.train_error()\n",
    "    train_error_list.append(train_error)\n",
    "    test_error_list.append(test_error)\n",
    "    \n",
    "plt.scatter(x=number_data_list, y=train_error_list, color=\"green\", label=\"Train Error\")\n",
    "plt.scatter(x=number_data_list, y=test_error_list, color=\"red\", label=\"Test Error\")\n",
    "\n",
    "plt.xlabel(\"Train Set Length\")\n",
    "plt.ylabel(\"Test Error\")\n",
    "plt.title(\"Test Error Per train set length\")\n",
    "plt.legend()\n",
    "plt.show()"
   ]
  },
  {
   "cell_type": "markdown",
   "id": "moving-plenty",
   "metadata": {},
   "source": [
    "# Stochastic Gradient Descent"
   ]
  },
  {
   "cell_type": "code",
   "execution_count": 38,
   "id": "polish-sunglasses",
   "metadata": {},
   "outputs": [],
   "source": [
    "class MultivariateStochasticGradientDescent():\n",
    "    \"\"\" This class try to match a pattern to train data with Stochastic Gradient Descent method \"\"\"\n",
    "        \n",
    "    def __init__(self, number_epoch, number_variables):\n",
    "        \"\"\"\n",
    "        Create a MultivariateStochasticGradientDescent\n",
    "        \n",
    "        number_epoch: The required number of epochs\n",
    "        number_variables: The number of variables        \n",
    "        \"\"\"\n",
    "        \n",
    "        # Learning rate configuration\n",
    "        self.learning_rate_initial = 0.005\n",
    "        self.learning_rate = self.learning_rate_initial\n",
    "        self.decrease_learning_rate = self.learning_rate_initial / number_epoch\n",
    "            \n",
    "        # Array for storing error and learning values \n",
    "        self.train_error = []\n",
    "        self.test_error = []\n",
    "        self.learning_rate_value = []\n",
    "    \n",
    "        self.number_epoch = number_epoch\n",
    "        \n",
    "        self.multivariate = Multivariate(number_variables=number_variables)\n",
    "        \n",
    "        \n",
    "    def run(self):\n",
    "        \"\"\" Run Stochastic Gradient Descent! \"\"\"\n",
    "        for epoch in range(self.number_epoch):\n",
    "            self._collect_epoch_statistic(epoch)\n",
    "            \n",
    "            # Select one sample randomly\n",
    "            index = np.random.choice(x_train.shape[0], 1)\n",
    "            x_train_random = x_train[index]\n",
    "            y_train_random = y_train[index]\n",
    "            \n",
    "            a_new = []\n",
    "            \n",
    "            y_predict = self.multivariate.apply(x_train_random)\n",
    "            \n",
    "            a_cur, c_cur = self.multivariate.get_params()\n",
    "            \n",
    "            for i, ai in enumerate(a_cur):\n",
    "                ai_new = ai - self.learning_rate * LossFunction.partial_mse_a(y_predict, y_train_random, x_train_random, i)\n",
    "                a_new.append(ai_new)\n",
    "            \n",
    "            c_new = c_cur - self.learning_rate * LossFunction.partial_mse_c(y_predict, y_train_random)\n",
    "            \n",
    "            self.multivariate.set_params(np.array(a_new), c_new)\n",
    "            self.learning_rate -= self.decrease_learning_rate\n",
    "            \n",
    "        self._collect_epoch_statistic(epoch)\n",
    "            \n",
    "    def _collect_epoch_statistic(self, epoch):\n",
    "        \"\"\" Collect statistics per epoch \"\"\"\n",
    "        self.learning_rate_value.append(self.learning_rate)\n",
    "        \n",
    "        y_predict = self.multivariate.apply(x_train)\n",
    "        self.train_error.append(LossFunction.mse(y_predict, y_train))\n",
    "        \n",
    "        y_predict = self.multivariate.apply(x_test)\n",
    "        self.test_error.append(LossFunction.mse(y_predict, y_test))\n",
    "    \n",
    "    def plot_result(self):\n",
    "        \"\"\" Plot train error and test error over epochs and predicted equation \"\"\"\n",
    "        x = np.arange(0, self.number_epoch+1)\n",
    "        \n",
    "        plt.plot(x, self.train_error, color=\"green\", label=\"Train Error\")\n",
    "        plt.plot(x, self.test_error, color=\"red\", label=\"Test Error\")\n",
    "        plt.legend()\n",
    "        plt.title(f\"Train Error VS Test Error \\n{self._configuration_title()}\")\n",
    "        \n",
    "        plt.xlabel(\"Epoch\")\n",
    "        plt.ylabel(\"Error\")\n",
    "        plt.show()\n",
    "    \n",
    "        # Predicted pattern\n",
    "        print(self.multivariate)\n",
    "        \n",
    "        # Final Error Value\n",
    "        y_predict = self.multivariate.apply(x_train)\n",
    "        train_error = LossFunction.mse(y_predict, y_train)\n",
    "        \n",
    "        y_predict = self.multivariate.apply(x_test)\n",
    "        test_error = LossFunction.mse(y_predict, y_test)\n",
    "        \n",
    "        print()\n",
    "        print(f\"Final Train Error= {train_error}\")\n",
    "        print(f\"Final Test Error= {test_error}\")\n",
    "        \n",
    "    \n",
    "    def plot_learning_rate_value(self):\n",
    "        \"\"\" Plot changing of the learning rate over epochs \"\"\"\n",
    "        x = np.arange(0, self.number_epoch+1)\n",
    "        \n",
    "        plt.plot(x, self.learning_rate_value, color = \"yellow\")\n",
    "        plt.xlabel(\"Epoch\")\n",
    "        plt.ylabel(\"Learning Rate\")\n",
    "        plt.title(f\"Learning Rete Changes \\n {self._configuration_title()}\")\n",
    "        plt.show()\n",
    "        \n",
    "    def _configuration_title(self):\n",
    "        \"\"\" Generating a string that contains configurations of the method \"\"\"\n",
    "        return f\"Number Epochs = {self.number_epoch}\"\n",
    "    \n",
    "    "
   ]
  },
  {
   "cell_type": "code",
   "execution_count": 39,
   "id": "harmful-cycling",
   "metadata": {},
   "outputs": [],
   "source": [
    "multivariate_stochastic_gradient_descent = MultivariateStochasticGradientDescent(number_epoch = 50000, number_variables = len(x_train[0]))"
   ]
  },
  {
   "cell_type": "code",
   "execution_count": 40,
   "id": "express-posting",
   "metadata": {},
   "outputs": [],
   "source": [
    "multivariate_stochastic_gradient_descent.run()"
   ]
  },
  {
   "cell_type": "code",
   "execution_count": 41,
   "id": "retired-reflection",
   "metadata": {},
   "outputs": [
    {
     "data": {
      "image/png": "[encoded data removed]",
      "text/plain": [
       "<Figure size 432x288 with 1 Axes>"
      ]
     },
     "metadata": {
      "needs_background": "light"
     },
     "output_type": "display_data"
    },
    {
     "name": "stdout",
     "output_type": "stream",
     "text": [
      "charges = 0.20 × age + -0.01 × gender + 0.19 × bmi + 0.04 × children + 0.38 × smoker + 0.00 × region-0 + -0.01 × region-1 + -0.02 × region-2 + -0.02 × region-3 + -0.04\n",
      "\n",
      "Final Train Error= 0.008845031940496715\n",
      "Final Test Error= 0.023170517427375536\n"
     ]
    }
   ],
   "source": [
    "multivariate_stochastic_gradient_descent.plot_result()"
   ]
  }
 ],
 "metadata": {
  "kernelspec": {
   "display_name": "Python 3",
   "language": "python",
   "name": "python3"
  },
  "language_info": {
   "codemirror_mode": {
    "name": "ipython",
    "version": 3
   },
   "file_extension": ".py",
   "mimetype": "text/x-python",
   "name": "python",
   "nbconvert_exporter": "python",
   "pygments_lexer": "ipython3",
   "version": "3.9.1"
  }
 },
 "nbformat": 4,
 "nbformat_minor": 5
}
