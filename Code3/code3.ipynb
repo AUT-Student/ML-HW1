{
 "cells": [
  {
   "cell_type": "markdown",
   "id": "pursuant-authorization",
   "metadata": {},
   "source": [
    "<center><b>In the name of God</b></center>\n",
    "\n",
    "<b>Course</b>: Machine Learning\n",
    "<br>\n",
    "<b>Description:</b> HomeWork 1 | Question 3\n",
    "<br>\n",
    "<b>Developer</b>: Alireza Mazochi (400131075)"
   ]
  },
  {
   "cell_type": "markdown",
   "id": "affiliated-vatican",
   "metadata": {},
   "source": [
    "# Libraries"
   ]
  },
  {
   "cell_type": "code",
   "execution_count": 1,
   "id": "numeric-offering",
   "metadata": {},
   "outputs": [],
   "source": [
    "# Import Allowed Libraries\n",
    "import pandas as pd\n",
    "import numpy as np\n",
    "import matplotlib.pyplot as plt"
   ]
  },
  {
   "cell_type": "markdown",
   "id": "latter-theme",
   "metadata": {},
   "source": [
    "# Load"
   ]
  },
  {
   "cell_type": "code",
   "execution_count": 2,
   "id": "geographic-discipline",
   "metadata": {},
   "outputs": [],
   "source": [
    "train_data = pd.read_csv(\"train.csv\")"
   ]
  },
  {
   "cell_type": "code",
   "execution_count": 3,
   "id": "chicken-subsection",
   "metadata": {},
   "outputs": [],
   "source": [
    "test_data = pd.read_csv(\"test.csv\")"
   ]
  },
  {
   "cell_type": "code",
   "execution_count": 4,
   "id": "generic-relationship",
   "metadata": {},
   "outputs": [
    {
     "data": {
      "text/plain": [
       "{'northeast', 'northwest', 'southeast', 'southwest'}"
      ]
     },
     "execution_count": 4,
     "metadata": {},
     "output_type": "execute_result"
    }
   ],
   "source": [
    "set(train_data[\"region\"].values)"
   ]
  },
  {
   "cell_type": "markdown",
   "id": "gorgeous-poker",
   "metadata": {},
   "source": [
    "# Encoding"
   ]
  },
  {
   "cell_type": "code",
   "execution_count": 5,
   "id": "vocal-wednesday",
   "metadata": {},
   "outputs": [],
   "source": [
    "# Encoding string features\n",
    "\n",
    "def gender_encoding(gender):\n",
    "    if gender == \"male\":\n",
    "        return 1\n",
    "    elif gender == \"female\":\n",
    "        return 0\n",
    "    else:\n",
    "        raise Exception(\"An expected value for gender!\")\n",
    "    \n",
    "def smoker_encoding(smoker):\n",
    "    if smoker == \"yes\":\n",
    "        return 1\n",
    "    elif smoker == \"no\":\n",
    "        return 0\n",
    "    else:\n",
    "        raise Exception(\"An expected value for smoker!\")\n",
    "\n",
    "def region_encoding(region):\n",
    "    if region == \"northeast\":\n",
    "        return np.array([1, 0, 0, 0])\n",
    "    elif region == \"northwest\":\n",
    "        return np.array([0, 1, 0, 0])\n",
    "    elif region == \"southeast\":\n",
    "        return np.array([0, 0, 1, 0])\n",
    "    elif region == \"southwest\":\n",
    "        return np.array([0, 0, 0, 1])\n",
    "    else:\n",
    "        raise Exception(\"An expected value for region!\")"
   ]
  },
  {
   "cell_type": "code",
   "execution_count": 6,
   "id": "combined-nerve",
   "metadata": {},
   "outputs": [],
   "source": [
    "# Apply encodings\n",
    "\n",
    "train_data[\"gender\"] = train_data[\"gender\"].apply(gender_encoding)\n",
    "train_data[\"smoker\"] = train_data[\"smoker\"].apply(smoker_encoding)\n",
    "train_data[\"region\"] = train_data[\"region\"].apply(region_encoding)\n",
    "\n",
    "test_data[\"gender\"] = test_data[\"gender\"].apply(gender_encoding)\n",
    "test_data[\"smoker\"] = test_data[\"smoker\"].apply(smoker_encoding)\n",
    "test_data[\"region\"] = test_data[\"region\"].apply(region_encoding)"
   ]
  },
  {
   "cell_type": "code",
   "execution_count": 7,
   "id": "pharmaceutical-perry",
   "metadata": {},
   "outputs": [],
   "source": [
    "def convert_vector_feature_to_separated_features(data):\n",
    "    data[\"region-0\"] = data[\"region\"].apply(lambda x:x[0])\n",
    "    data[\"region-1\"] = data[\"region\"].apply(lambda x:x[1])\n",
    "    data[\"region-2\"] = data[\"region\"].apply(lambda x:x[2])\n",
    "    data[\"region-3\"] = data[\"region\"].apply(lambda x:x[3])\n",
    "    del data[\"region\"]"
   ]
  },
  {
   "cell_type": "code",
   "execution_count": 8,
   "id": "balanced-relief",
   "metadata": {},
   "outputs": [],
   "source": [
    "convert_vector_feature_to_separated_features(train_data)\n",
    "convert_vector_feature_to_separated_features(test_data)"
   ]
  },
  {
   "cell_type": "code",
   "execution_count": 12,
   "id": "unique-system",
   "metadata": {},
   "outputs": [
    {
     "data": {
      "text/html": [
       "<div>\n",
       "<style scoped>\n",
       "    .dataframe tbody tr th:only-of-type {\n",
       "        vertical-align: middle;\n",
       "    }\n",
       "\n",
       "    .dataframe tbody tr th {\n",
       "        vertical-align: top;\n",
       "    }\n",
       "\n",
       "    .dataframe thead th {\n",
       "        text-align: right;\n",
       "    }\n",
       "</style>\n",
       "<table border=\"1\" class=\"dataframe\">\n",
       "  <thead>\n",
       "    <tr style=\"text-align: right;\">\n",
       "      <th></th>\n",
       "      <th>age</th>\n",
       "      <th>gender</th>\n",
       "      <th>bmi</th>\n",
       "      <th>children</th>\n",
       "      <th>smoker</th>\n",
       "      <th>charges</th>\n",
       "      <th>region-0</th>\n",
       "      <th>region-1</th>\n",
       "      <th>region-2</th>\n",
       "      <th>region-3</th>\n",
       "    </tr>\n",
       "  </thead>\n",
       "  <tbody>\n",
       "    <tr>\n",
       "      <th>0</th>\n",
       "      <td>0.152704</td>\n",
       "      <td>1.0</td>\n",
       "      <td>0.161519</td>\n",
       "      <td>0.4</td>\n",
       "      <td>1.0</td>\n",
       "      <td>0.308097</td>\n",
       "      <td>0.0</td>\n",
       "      <td>1.0</td>\n",
       "      <td>0.0</td>\n",
       "      <td>0.0</td>\n",
       "    </tr>\n",
       "    <tr>\n",
       "      <th>1</th>\n",
       "      <td>0.066808</td>\n",
       "      <td>1.0</td>\n",
       "      <td>0.436668</td>\n",
       "      <td>0.0</td>\n",
       "      <td>1.0</td>\n",
       "      <td>0.644161</td>\n",
       "      <td>0.0</td>\n",
       "      <td>0.0</td>\n",
       "      <td>0.0</td>\n",
       "      <td>1.0</td>\n",
       "    </tr>\n",
       "    <tr>\n",
       "      <th>2</th>\n",
       "      <td>0.066808</td>\n",
       "      <td>1.0</td>\n",
       "      <td>0.241145</td>\n",
       "      <td>0.0</td>\n",
       "      <td>0.0</td>\n",
       "      <td>0.005859</td>\n",
       "      <td>0.0</td>\n",
       "      <td>0.0</td>\n",
       "      <td>0.0</td>\n",
       "      <td>1.0</td>\n",
       "    </tr>\n",
       "    <tr>\n",
       "      <th>3</th>\n",
       "      <td>0.524920</td>\n",
       "      <td>1.0</td>\n",
       "      <td>0.348824</td>\n",
       "      <td>0.0</td>\n",
       "      <td>0.0</td>\n",
       "      <td>0.384113</td>\n",
       "      <td>0.0</td>\n",
       "      <td>0.0</td>\n",
       "      <td>0.0</td>\n",
       "      <td>1.0</td>\n",
       "    </tr>\n",
       "    <tr>\n",
       "      <th>4</th>\n",
       "      <td>0.499735</td>\n",
       "      <td>1.0</td>\n",
       "      <td>0.053840</td>\n",
       "      <td>0.2</td>\n",
       "      <td>0.0</td>\n",
       "      <td>0.136556</td>\n",
       "      <td>1.0</td>\n",
       "      <td>0.0</td>\n",
       "      <td>0.0</td>\n",
       "      <td>0.0</td>\n",
       "    </tr>\n",
       "    <tr>\n",
       "      <th>...</th>\n",
       "      <td>...</td>\n",
       "      <td>...</td>\n",
       "      <td>...</td>\n",
       "      <td>...</td>\n",
       "      <td>...</td>\n",
       "      <td>...</td>\n",
       "      <td>...</td>\n",
       "      <td>...</td>\n",
       "      <td>...</td>\n",
       "      <td>...</td>\n",
       "    </tr>\n",
       "    <tr>\n",
       "      <th>145</th>\n",
       "      <td>0.630965</td>\n",
       "      <td>1.0</td>\n",
       "      <td>0.438793</td>\n",
       "      <td>0.6</td>\n",
       "      <td>0.0</td>\n",
       "      <td>0.188829</td>\n",
       "      <td>0.0</td>\n",
       "      <td>1.0</td>\n",
       "      <td>0.0</td>\n",
       "      <td>0.0</td>\n",
       "    </tr>\n",
       "    <tr>\n",
       "      <th>146</th>\n",
       "      <td>0.868505</td>\n",
       "      <td>1.0</td>\n",
       "      <td>0.439501</td>\n",
       "      <td>0.0</td>\n",
       "      <td>1.0</td>\n",
       "      <td>1.000000</td>\n",
       "      <td>0.0</td>\n",
       "      <td>0.0</td>\n",
       "      <td>0.0</td>\n",
       "      <td>1.0</td>\n",
       "    </tr>\n",
       "    <tr>\n",
       "      <th>147</th>\n",
       "      <td>0.020148</td>\n",
       "      <td>0.0</td>\n",
       "      <td>0.414565</td>\n",
       "      <td>0.0</td>\n",
       "      <td>0.0</td>\n",
       "      <td>0.011528</td>\n",
       "      <td>0.0</td>\n",
       "      <td>1.0</td>\n",
       "      <td>0.0</td>\n",
       "      <td>0.0</td>\n",
       "    </tr>\n",
       "    <tr>\n",
       "      <th>148</th>\n",
       "      <td>0.716066</td>\n",
       "      <td>1.0</td>\n",
       "      <td>0.119297</td>\n",
       "      <td>0.2</td>\n",
       "      <td>0.0</td>\n",
       "      <td>0.179065</td>\n",
       "      <td>0.0</td>\n",
       "      <td>0.0</td>\n",
       "      <td>0.0</td>\n",
       "      <td>1.0</td>\n",
       "    </tr>\n",
       "    <tr>\n",
       "      <th>149</th>\n",
       "      <td>0.381760</td>\n",
       "      <td>1.0</td>\n",
       "      <td>0.476339</td>\n",
       "      <td>0.0</td>\n",
       "      <td>0.0</td>\n",
       "      <td>0.084553</td>\n",
       "      <td>0.0</td>\n",
       "      <td>0.0</td>\n",
       "      <td>0.0</td>\n",
       "      <td>1.0</td>\n",
       "    </tr>\n",
       "  </tbody>\n",
       "</table>\n",
       "<p>150 rows × 10 columns</p>\n",
       "</div>"
      ],
      "text/plain": [
       "          age  gender       bmi  children  smoker   charges  region-0  \\\n",
       "0    0.152704     1.0  0.161519       0.4     1.0  0.308097       0.0   \n",
       "1    0.066808     1.0  0.436668       0.0     1.0  0.644161       0.0   \n",
       "2    0.066808     1.0  0.241145       0.0     0.0  0.005859       0.0   \n",
       "3    0.524920     1.0  0.348824       0.0     0.0  0.384113       0.0   \n",
       "4    0.499735     1.0  0.053840       0.2     0.0  0.136556       1.0   \n",
       "..        ...     ...       ...       ...     ...       ...       ...   \n",
       "145  0.630965     1.0  0.438793       0.6     0.0  0.188829       0.0   \n",
       "146  0.868505     1.0  0.439501       0.0     1.0  1.000000       0.0   \n",
       "147  0.020148     0.0  0.414565       0.0     0.0  0.011528       0.0   \n",
       "148  0.716066     1.0  0.119297       0.2     0.0  0.179065       0.0   \n",
       "149  0.381760     1.0  0.476339       0.0     0.0  0.084553       0.0   \n",
       "\n",
       "     region-1  region-2  region-3  \n",
       "0         1.0       0.0       0.0  \n",
       "1         0.0       0.0       1.0  \n",
       "2         0.0       0.0       1.0  \n",
       "3         0.0       0.0       1.0  \n",
       "4         0.0       0.0       0.0  \n",
       "..        ...       ...       ...  \n",
       "145       1.0       0.0       0.0  \n",
       "146       0.0       0.0       1.0  \n",
       "147       1.0       0.0       0.0  \n",
       "148       0.0       0.0       1.0  \n",
       "149       0.0       0.0       1.0  \n",
       "\n",
       "[150 rows x 10 columns]"
      ]
     },
     "execution_count": 12,
     "metadata": {},
     "output_type": "execute_result"
    }
   ],
   "source": [
    "test_data"
   ]
  },
  {
   "cell_type": "markdown",
   "id": "hourly-broad",
   "metadata": {},
   "source": [
    "# Basis Function"
   ]
  },
  {
   "cell_type": "code",
   "execution_count": 10,
   "id": "compact-delaware",
   "metadata": {},
   "outputs": [],
   "source": [
    "train_data[\"age\"] = train_data[\"age\"].apply(lambda x:x**2)\n",
    "test_data[\"age\"] = test_data[\"age\"].apply(lambda x:x**2)"
   ]
  },
  {
   "cell_type": "markdown",
   "id": "buried-holder",
   "metadata": {},
   "source": [
    "# Normalization"
   ]
  },
  {
   "cell_type": "code",
   "execution_count": 11,
   "id": "million-shift",
   "metadata": {},
   "outputs": [],
   "source": [
    "# Normalization with min-max\n",
    "train_data=(train_data-train_data.min())/(train_data.max()-train_data.min())\n",
    "test_data=(test_data-test_data.min())/(test_data.max()-test_data.min())\n"
   ]
  },
  {
   "cell_type": "markdown",
   "id": "dense-ranch",
   "metadata": {},
   "source": [
    "# X/Y split"
   ]
  },
  {
   "cell_type": "code",
   "execution_count": 13,
   "id": "atmospheric-comment",
   "metadata": {},
   "outputs": [],
   "source": [
    "x_train = train_data.drop(columns =[\"charges\"]).values\n",
    "y_train = train_data[\"charges\"].values\n",
    "\n",
    "x_test = test_data.drop(columns = [\"charges\"]).values\n",
    "y_test = test_data[\"charges\"].values"
   ]
  },
  {
   "cell_type": "markdown",
   "id": "spoken-chicago",
   "metadata": {},
   "source": [
    "# Multuvariate"
   ]
  },
  {
   "cell_type": "code",
   "execution_count": 14,
   "id": "about-finish",
   "metadata": {},
   "outputs": [],
   "source": [
    "class Multivariate():\n",
    "    \"\"\" Class Polynomial store coefficients of a multivariate\"\"\"\n",
    "\n",
    "    def __init__(self, number_variables):\n",
    "        \"\"\" \n",
    "        Create a polynomial object.\n",
    "        \n",
    "        number_variables: number of variables\n",
    "        \"\"\"\n",
    "        \n",
    "        self.number_variables = number_variables\n",
    "\n",
    "        # Coefficients of multivariate: a[n-1]*x[n-1] + a[n-2]*x[n-2] + ... + a[1]*(x[1]) + a[0]*x[0] + c\n",
    "        self.a = np.zeros(number_variables)\n",
    "        self.c = 0\n",
    "        \n",
    "    def single_apply(self, x):\n",
    "        \"\"\"\n",
    "        Apply the multivariate to a point\n",
    "        \n",
    "        x: a point\n",
    "        \"\"\"\n",
    "        return np.dot(x, self.a) + self.c\n",
    "    \n",
    "    def apply(self, x):\n",
    "        \"\"\" \n",
    "        Apply the multivariate to an array of points\n",
    "        \n",
    "        x: array of points\n",
    "        \"\"\"\n",
    "        return np.array(self.single_apply(x))\n",
    "    \n",
    "    \n",
    "    def set_params(self, a, c):\n",
    "        \"\"\" Setter for params\"\"\"\n",
    "        self.a = a\n",
    "        self.c = c\n",
    "    \n",
    "    def get_params(self):\n",
    "        \"\"\" Getter for params\"\"\"\n",
    "        return self.a, self.c\n",
    "    \n",
    "    def __str__(self):\n",
    "        \"\"\" String of the multivariate \"\"\"\n",
    "        variables_name = list(train_data.drop(columns =[\"charges\"]).columns)\n",
    "        \n",
    "        output = \"charges = \"\n",
    "        for i in range(self.number_variables):\n",
    "            output += \"{:.2f}\".format(self.a[i]) + \" × \" + variables_name[i] + \" + \"\n",
    "        \n",
    "        output += \"{:.2f}\".format(self.c)\n",
    "        return output"
   ]
  },
  {
   "cell_type": "markdown",
   "id": "rental-muscle",
   "metadata": {},
   "source": [
    "# Loss Fuction"
   ]
  },
  {
   "cell_type": "code",
   "execution_count": 15,
   "id": "express-portable",
   "metadata": {},
   "outputs": [],
   "source": [
    "class LossFunction():\n",
    "    \"\"\" Some Loss functions and partial derivation of them located in this class \"\"\"\n",
    "\n",
    "    @staticmethod\n",
    "    def mse(y_predict, y_real):\n",
    "        \"\"\" Mean Square Error \"\"\"\n",
    "        arr = (np.subtract(y_real,y_predict))**2\n",
    "        return np.sum(arr) / len(y_predict)\n",
    "    \n",
    "    @staticmethod\n",
    "    def partial_mse_a(y_predict, y_real, x, index):\n",
    "        \"\"\" Partial derivation of Mean Square Error for coeficient of feature of multivariat\"\"\"\n",
    "        arr = np.multiply(x[:, index], (np.subtract(y_real, y_predict)))    \n",
    "        return -2*np.sum(arr)/len(x)\n",
    "    \n",
    "    @staticmethod\n",
    "    def partial_mse_c(y_predict, y_real):\n",
    "        \"\"\" Partial derivation of Mean Square Error for consist coefficient of multivariat\"\"\"\n",
    "        arr = np.subtract(y_real, y_predict) \n",
    "        return -2*np.sum(arr)/len(y_real)\n"
   ]
  },
  {
   "cell_type": "markdown",
   "id": "center-flexibility",
   "metadata": {},
   "source": [
    "# Stochastic Gradient Descent"
   ]
  },
  {
   "cell_type": "code",
   "execution_count": 44,
   "id": "immune-maine",
   "metadata": {},
   "outputs": [],
   "source": [
    "class MultivariateStochasticGradientDescent():\n",
    "    \"\"\" This class try to match a pattern to train data with Stochastic Gradient Descent method \"\"\"\n",
    "        \n",
    "    def __init__(self, number_epoch, number_variables):\n",
    "        \"\"\"\n",
    "        Create a MultivariateStochasticGradientDescent\n",
    "        \n",
    "        number_epoch: The required number of epochs\n",
    "        number_variables: The number of variables\n",
    "        \n",
    "        \"\"\"\n",
    "        \n",
    "        # Learning rate configuration\n",
    "        self.learning_rate_initial = 0.005\n",
    "        self.learning_rate = self.learning_rate_initial\n",
    "        self.decrease_learning_rate = self.learning_rate_initial / number_epoch\n",
    "            \n",
    "        # Array for storing error and learning values \n",
    "        self.train_error = []\n",
    "        self.test_error = []\n",
    "        self.learning_rate_value = []\n",
    "    \n",
    "        self.number_epoch = number_epoch\n",
    "        \n",
    "        self.multivariate = Multivariate(number_variables=number_variables)\n",
    "        \n",
    "        \n",
    "    def run(self):\n",
    "        \"\"\" Run Stochastic Gradient Descent! \"\"\"\n",
    "        for epoch in range(self.number_epoch):\n",
    "            self._collect_epoch_statistic(epoch)\n",
    "            \n",
    "            # Select one sample randomly\n",
    "            index = np.random.choice(x_train.shape[0], 1)\n",
    "            x_train_random = x_train[index]\n",
    "            y_train_random = y_train[index]\n",
    "            \n",
    "            a_new = []\n",
    "            \n",
    "            y_predict = self.multivariate.apply(x_train_random)\n",
    "            \n",
    "            a_cur, c_cur = self.multivariate.get_params()\n",
    "            \n",
    "            for i, ai in enumerate(a_cur):\n",
    "                ai_new = ai - self.learning_rate * LossFunction.partial_mse_a(y_predict, y_train_random, x_train_random, i)\n",
    "                a_new.append(ai_new)\n",
    "            \n",
    "            c_new = c_cur - self.learning_rate * LossFunction.partial_mse_c(y_predict, y_train_random)\n",
    "            \n",
    "            self.multivariate.set_params(np.array(a_new), c_new)\n",
    "            self.learning_rate -= self.decrease_learning_rate\n",
    "            \n",
    "        self._collect_epoch_statistic(epoch)\n",
    "            \n",
    "    def _collect_epoch_statistic(self, epoch):\n",
    "        \"\"\" Collect statistics per epoch \"\"\"\n",
    "        self.learning_rate_value.append(self.learning_rate)\n",
    "        \n",
    "        y_predict = self.multivariate.apply(x_train)\n",
    "        self.train_error.append(LossFunction.mse(y_predict, y_train))\n",
    "        \n",
    "        y_predict = self.multivariate.apply(x_test)\n",
    "        self.test_error.append(LossFunction.mse(y_predict, y_test))\n",
    "    \n",
    "    def plot_result(self):\n",
    "        \"\"\" Plot train error and test error over epochs and predicted equation \"\"\"\n",
    "        x = np.arange(0, self.number_epoch+1)\n",
    "        \n",
    "        plt.plot(x, self.train_error, color=\"green\", label=\"Train Error\")\n",
    "        plt.plot(x, self.test_error, color=\"red\", label=\"Test Error\")\n",
    "        plt.legend()\n",
    "        plt.title(f\"Train Error VS Test Error \\n{self._configuration_title()}\")\n",
    "        \n",
    "        plt.xlabel(\"Epoch\")\n",
    "        plt.ylabel(\"Error\")\n",
    "        plt.show()\n",
    "    \n",
    "        # Predicted pattern\n",
    "        print(self.multivariate)\n",
    "        \n",
    "        # Final Error Value\n",
    "        y_predict = self.multivariate.apply(x_train)\n",
    "        train_error = LossFunction.mse(y_predict, y_train)\n",
    "        \n",
    "        y_predict = self.multivariate.apply(x_test)\n",
    "        test_error = LossFunction.mse(y_predict, y_test)\n",
    "        \n",
    "        print()\n",
    "        print(f\"Final Train Error= {train_error}\")\n",
    "        print(f\"Final Test Error= {test_error}\")\n",
    "        \n",
    "    \n",
    "    def plot_learning_rate_value(self):\n",
    "        \"\"\" Plot changing of the learning rate over epochs \"\"\"\n",
    "        x = np.arange(0, self.number_epoch+1)\n",
    "        \n",
    "        plt.plot(x, self.learning_rate_value, color = \"yellow\")\n",
    "        plt.xlabel(\"Epoch\")\n",
    "        plt.ylabel(\"Learning Rate\")\n",
    "        plt.title(f\"Learning Rete Changes \\n {self._configuration_title()}\")\n",
    "        plt.show()\n",
    "        \n",
    "    def _configuration_title(self):\n",
    "        \"\"\" Generating a string that contains configurations of the method \"\"\"\n",
    "        return f\"Number Epochs = {self.number_epoch}\"\n",
    "    \n",
    "    "
   ]
  },
  {
   "cell_type": "code",
   "execution_count": 45,
   "id": "honest-expense",
   "metadata": {},
   "outputs": [],
   "source": [
    "multivariate_stochastic_gradient_descent = MultivariateStochasticGradientDescent(number_epoch = 50000, number_variables = len(x_train[0]))"
   ]
  },
  {
   "cell_type": "code",
   "execution_count": 46,
   "id": "light-removal",
   "metadata": {},
   "outputs": [],
   "source": [
    "multivariate_stochastic_gradient_descent.run()"
   ]
  },
  {
   "cell_type": "code",
   "execution_count": 47,
   "id": "placed-catholic",
   "metadata": {},
   "outputs": [
    {
     "data": {
      "image/png": "[encoded data removed]",
      "text/plain": [
       "<Figure size 432x288 with 1 Axes>"
      ]
     },
     "metadata": {
      "needs_background": "light"
     },
     "output_type": "display_data"
    },
    {
     "name": "stdout",
     "output_type": "stream",
     "text": [
      "charges = 0.20 × age + -0.00 × gender + 0.19 × bmi + 0.04 × children + 0.39 × smoker + 0.00 × region-0 + -0.01 × region-1 + -0.02 × region-2 + -0.02 × region-3 + -0.04\n",
      "\n",
      "Final Train Error= 0.008840764939022167\n",
      "Final Test Error= 0.022468341286345707\n"
     ]
    }
   ],
   "source": [
    "multivariate_stochastic_gradient_descent.plot_result()"
   ]
  }
 ],
 "metadata": {
  "kernelspec": {
   "display_name": "Python 3",
   "language": "python",
   "name": "python3"
  },
  "language_info": {
   "codemirror_mode": {
    "name": "ipython",
    "version": 3
   },
   "file_extension": ".py",
   "mimetype": "text/x-python",
   "name": "python",
   "nbconvert_exporter": "python",
   "pygments_lexer": "ipython3",
   "version": "3.9.1"
  }
 },
 "nbformat": 4,
 "nbformat_minor": 5
}
